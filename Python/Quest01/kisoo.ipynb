{
  "nbformat": 4,
  "nbformat_minor": 0,
  "metadata": {
    "colab": {
      "provenance": [],
      "include_colab_link": true
    },
    "kernelspec": {
      "name": "python3",
      "display_name": "Python 3"
    },
    "language_info": {
      "name": "python"
    }
  },
  "cells": [
    {
      "cell_type": "markdown",
      "metadata": {
        "id": "view-in-github",
        "colab_type": "text"
      },
      "source": [
        "<a href=\"https://colab.research.google.com/github/richpapakr/AIFFEL_quest_cr/blob/master/Python/Quest01/kisoo.ipynb\" target=\"_parent\"><img src=\"https://colab.research.google.com/assets/colab-badge.svg\" alt=\"Open In Colab\"/></a>"
      ]
    },
    {
      "cell_type": "code",
      "execution_count": null,
      "metadata": {
        "colab": {
          "base_uri": "https://localhost:8080/"
        },
        "id": "P-2RP1S5XFGH",
        "outputId": "aaa8d276-651e-4763-f1e8-bf8b57841d7b"
      },
      "outputs": [
        {
          "output_type": "stream",
          "name": "stdout",
          "text": [
            "Hello World!\n"
          ]
        }
      ],
      "source": [
        "print('Hello World!')"
      ]
    },
    {
      "cell_type": "code",
      "source": [
        "# 회문 만들기\n",
        "def 회문(k):          # is_palindrome == 회문\n",
        "  return k == k[::-1] # [::-1] == 뒤에서부터 배열순서\n",
        "\n",
        "print(회문(\"level\"))\n",
        "print(회문('radar'))\n",
        "print(회문('hello'))\n",
        "print(회문('기러기'))\n"
      ],
      "metadata": {
        "id": "Gbg4nHJVhXQk",
        "colab": {
          "base_uri": "https://localhost:8080/"
        },
        "outputId": "72db7c2c-f700-46a6-ec04-8076bad62366"
      },
      "execution_count": null,
      "outputs": [
        {
          "output_type": "stream",
          "name": "stdout",
          "text": [
            "True\n",
            "True\n",
            "False\n",
            "True\n"
          ]
        }
      ]
    },
    {
      "cell_type": "code",
      "source": [
        "# 회문 만들기\n",
        "def is_palindrome(s):\n",
        "\n",
        "    return s == s[::-1]  # 문자열을 역순으로 비교\n",
        "\n",
        "# 테스트\n",
        "print(is_palindrome(\"level\"))  # True\n",
        "print(is_palindrome(\"radar\"))  # True\n",
        "print(is_palindrome(\"hello\"))  # False\n",
        "print(is_palindrome(\"토마토\"))  # True\n",
        "\n"
      ],
      "metadata": {
        "colab": {
          "base_uri": "https://localhost:8080/"
        },
        "id": "EPnoloOZc-ip",
        "outputId": "2f4ad29c-294c-4a23-e036-c9aa54012021"
      },
      "execution_count": null,
      "outputs": [
        {
          "output_type": "stream",
          "name": "stdout",
          "text": [
            "True\n",
            "True\n",
            "False\n",
            "True\n"
          ]
        }
      ]
    },
    {
      "cell_type": "code",
      "source": [
        "# 나만의 프로필 함수 만들기\n",
        "def my_profile(**kwargs):\n",
        "    for key, value in kwargs.items():\n",
        "        print(f\"{key}: {value}\")\n",
        "\n",
        "my_profile(name='성기수', age=52, job='시설관리')"
      ],
      "metadata": {
        "id": "2cP23SyujaqW",
        "colab": {
          "base_uri": "https://localhost:8080/"
        },
        "outputId": "596834ef-3980-4b2b-87e1-acd5f23b359a"
      },
      "execution_count": 10,
      "outputs": [
        {
          "output_type": "stream",
          "name": "stdout",
          "text": [
            "name: 성기수\n",
            "age: 52\n",
            "job: 시설관리\n"
          ]
        }
      ]
    },
    {
      "cell_type": "code",
      "source": [
        "#\n",
        "def is_palindrome"
      ],
      "metadata": {
        "id": "SNNKwuoq6CjJ"
      },
      "execution_count": null,
      "outputs": []
    }
  ]
}